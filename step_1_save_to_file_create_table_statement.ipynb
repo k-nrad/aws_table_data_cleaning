{
 "cells": [
  {
   "cell_type": "code",
   "execution_count": 127,
   "outputs": [],
   "source": [
    "import boto3\n",
    "import logging"
   ],
   "metadata": {
    "collapsed": false,
    "pycharm": {
     "name": "#%%\n"
    }
   }
  },
  {
   "cell_type": "code",
   "execution_count": 133,
   "outputs": [],
   "source": [
    "# Create a logger object\n",
    "logger = logging.getLogger(\"create_table_statement\")\n",
    "\n",
    "# Set the logging level to INFO\n",
    "logger.setLevel(logging.INFO)\n",
    "\n",
    "# Create a FileHandler to write the log messages to a file\n",
    "file_handler = logging.FileHandler('logs/create_table_statement.log')\n",
    "file_handler.setLevel(logging.INFO)\n",
    "\n",
    "# Create a StreamHandler to write the log messages to the console\n",
    "console_handler = logging.StreamHandler()\n",
    "console_handler.setLevel(logging.INFO)\n",
    "\n",
    "# Create a formatter to format the log messages\n",
    "formatter = logging.Formatter('%(asctime)s - %(name)s - %(levelname)s - %(message)s')\n",
    "\n",
    "# Set the formatter for the handlers\n",
    "file_handler.setFormatter(formatter)\n",
    "console_handler.setFormatter(formatter)\n",
    "\n",
    "# Add the handlers to the logger object\n",
    "logger.addHandler(file_handler)\n",
    "logger.addHandler(console_handler)"
   ],
   "metadata": {
    "collapsed": false,
    "pycharm": {
     "name": "#%%\n"
    }
   }
  },
  {
   "cell_type": "code",
   "execution_count": 134,
   "outputs": [],
   "source": [
    "# Log files destination place\n",
    "bucket_name = \"abc\" # change bucket name\n",
    "key_path = f\"cleaning_test_data_and_tables_temp_remove_after_2024.01\"\n",
    "\n",
    "# Athena configuration for Athena query log files\n",
    "output_location = f\"s3://{bucket_name}/{key_path}/athena_query_output_create_table_statement/\""
   ],
   "metadata": {
    "collapsed": false,
    "pycharm": {
     "name": "#%%\n"
    }
   }
  },
  {
   "cell_type": "code",
   "execution_count": null,
   "outputs": [],
   "source": [
    "# Read table names from a file\n",
    "with open(\"tables_to_delete.txt\") as f:\n",
    "    tables = f.read().splitlines()\n",
    "len(tables)"
   ],
   "metadata": {
    "collapsed": false,
    "pycharm": {
     "name": "#%%\n"
    }
   }
  },
  {
   "cell_type": "code",
   "execution_count": null,
   "outputs": [],
   "source": [
    "# Create Athena and s3 client\n",
    "athena = boto3.client('athena')\n",
    "s3 = boto3.client('s3')\n",
    "\n",
    "# Loop through the list of tables and save \"create table statement\" for each table\n",
    "for table in tables:\n",
    "    split_name = table.split(\".\")\n",
    "\n",
    "    database_name = split_name[0]\n",
    "    table_name = split_name[1]\n",
    "\n",
    "\n",
    "    # Build the SQL query\n",
    "    sql_query = f\"SHOW CREATE TABLE {database_name}.{table_name}\"\n",
    "\n",
    "    # Execute the QL query\n",
    "    response = athena.start_query_execution(\n",
    "        QueryString=sql_query,\n",
    "        QueryExecutionContext={\n",
    "            'Database': database_name\n",
    "        },\n",
    "        ResultConfiguration={\n",
    "            'OutputLocation': output_location\n",
    "        }\n",
    "    )\n",
    "\n",
    "    # Query execution status\n",
    "    query_execution_id = response['QueryExecutionId']\n",
    "    query_status = athena.get_query_execution(QueryExecutionId=query_execution_id)['QueryExecution']['Status']['State']\n",
    "\n",
    "    # Wait for the query to complete\n",
    "    while query_status in ['QUEUED', 'RUNNING']:\n",
    "        query_status = athena.get_query_execution(QueryExecutionId=query_execution_id)['QueryExecution']['Status']['State']\n",
    "\n",
    "    # # Query results\n",
    "    if query_status == 'SUCCEEDED':\n",
    "        result = athena.get_query_results(QueryExecutionId=query_execution_id)\n",
    "        # Save the query execution ID and table name to a log file\n",
    "        with open(\"./logs/log_create_table_statement.txt\", \"a\") as f:\n",
    "            f.write(f\"Table: {table_name} ::: Query execution ID: {response['QueryExecutionId']} ::: Query status: {query_status} ::: Query result: {result}\\n\")\n",
    "\n",
    "        # Save CREATE TABLE statement to separate file\n",
    "        with open(f\"./create_table_statement/{database_name}.{table_name}_create_table_statement.txt\", \"a\") as f:\n",
    "            result_text = result['ResultSet']['Rows']\n",
    "            for item in result_text:\n",
    "                f.write(f\"{item['Data'][0]['VarCharValue']}\\n\")\n",
    "\n",
    "        logger.info(f\"SAVED 'create table' statement for '{database_name}.{table_name}'\")\n",
    "\n",
    "        # Copy CREATE TABLE statement to s3\n",
    "        file_name = f\"{database_name}.{table_name}_create_table_statement.txt\"\n",
    "        file_local_path = f\"./create_table_statement/{file_name}\"\n",
    "        key = f\"{key_path}/create_table_statement/{file_name}\"\n",
    "        s3.upload_file(file_local_path, bucket_name, key)\n"
   ],
   "metadata": {
    "collapsed": false,
    "pycharm": {
     "name": "#%%\n"
    }
   }
  },
  {
   "cell_type": "code",
   "execution_count": 138,
   "outputs": [],
   "source": [
    "# Copy log file to s3\n",
    "file_name = f\"create_table_statement.log\"\n",
    "file_local_path = f\"./logs/{file_name}\"\n",
    "key = f\"{key_path}/logs/{file_name}\"\n",
    "s3.upload_file(file_local_path, bucket_name, key)"
   ],
   "metadata": {
    "collapsed": false,
    "pycharm": {
     "name": "#%%\n"
    }
   }
  }
 ],
 "metadata": {
  "kernelspec": {
   "display_name": "Python 3",
   "language": "python",
   "name": "python3"
  },
  "language_info": {
   "codemirror_mode": {
    "name": "ipython",
    "version": 2
   },
   "file_extension": ".py",
   "mimetype": "text/x-python",
   "name": "python",
   "nbconvert_exporter": "python",
   "pygments_lexer": "ipython2",
   "version": "2.7.6"
  }
 },
 "nbformat": 4,
 "nbformat_minor": 0
}