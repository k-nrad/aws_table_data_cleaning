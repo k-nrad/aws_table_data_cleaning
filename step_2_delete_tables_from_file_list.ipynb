{
 "cells": [
  {
   "cell_type": "code",
   "execution_count": 50,
   "outputs": [],
   "source": [
    "import boto3\n",
    "import logging"
   ],
   "metadata": {
    "collapsed": false,
    "pycharm": {
     "name": "#%%\n"
    }
   }
  },
  {
   "cell_type": "code",
   "execution_count": 61,
   "outputs": [],
   "source": [
    "# Create a logger object\n",
    "logger = logging.getLogger(\"delete_tables\")\n",
    "\n",
    "# Set the logging level to INFO\n",
    "logger.setLevel(logging.INFO)\n",
    "\n",
    "# Create a FileHandler to write the log messages to a file\n",
    "file_handler = logging.FileHandler('logs/delete_tables.log')\n",
    "file_handler.setLevel(logging.INFO)\n",
    "\n",
    "# Create a StreamHandler to write the log messages to the console\n",
    "console_handler = logging.StreamHandler()\n",
    "console_handler.setLevel(logging.INFO)\n",
    "\n",
    "# Create a formatter to format the log messages\n",
    "formatter = logging.Formatter('%(asctime)s - %(name)s - %(levelname)s - %(message)s')\n",
    "\n",
    "# Set the formatter for the handlers\n",
    "file_handler.setFormatter(formatter)\n",
    "console_handler.setFormatter(formatter)\n",
    "\n",
    "# Add the handlers to the logger object\n",
    "logger.addHandler(file_handler)\n",
    "logger.addHandler(console_handler)"
   ],
   "metadata": {
    "collapsed": false,
    "pycharm": {
     "name": "#%%\n"
    }
   }
  },
  {
   "cell_type": "code",
   "execution_count": 62,
   "outputs": [],
   "source": [
    "# Log files destination place\n",
    "bucket_name = \"abc\" # change bucket name\n",
    "key_path = f\"cleaning_test_data_and_tables_temp_remove_after_2024.01\"\n",
    "\n",
    "# Athena configuration for Athena query log files\n",
    "output_location = f\"s3://{bucket_name}/{key_path}/athena_query_output_delete_tables/\""
   ],
   "metadata": {
    "collapsed": false,
    "pycharm": {
     "name": "#%%\n"
    }
   }
  },
  {
   "cell_type": "code",
   "execution_count": null,
   "outputs": [],
   "source": [
    "# Read table names from a file\n",
    "with open(\"tables_to_delete.txt\") as f:\n",
    "    tables = f.read().splitlines()\n",
    "len(tables)"
   ],
   "metadata": {
    "collapsed": false,
    "pycharm": {
     "name": "#%%\n"
    }
   }
  },
  {
   "cell_type": "code",
   "execution_count": null,
   "outputs": [],
   "source": [
    "# Create Athena and S3 client\n",
    "client = boto3.client(\"athena\")\n",
    "s3 = boto3.client(\"s3\")\n",
    "\n",
    "# Loop through the list of tables and drop each table if exists\n",
    "for table in tables:\n",
    "    split_name = table.split(\".\")\n",
    "\n",
    "    database_name = split_name[0]\n",
    "    table_name = split_name[1]\n",
    "\n",
    "    # Build the SQL query\n",
    "    sql_query = f\"SELECT count(*) FROM {database_name}.{table_name}\"\n",
    "    # !!! Uncomment below line and change QueryString value in DEPLOY stage !!!\n",
    "    #sql_drop_table_query = f\"DROP TABLE IF EXISTS {database_name}.{table_name}\"\n",
    "\n",
    "    # Execute the query\n",
    "    response = client.start_query_execution(\n",
    "        QueryString=sql_query,\n",
    "        QueryExecutionContext={\n",
    "            'Database': database_name\n",
    "        },\n",
    "        ResultConfiguration={\n",
    "            'OutputLocation': output_location\n",
    "        }\n",
    "    )\n",
    "\n",
    "    # Query execution status\n",
    "    query_execution_id = response['QueryExecutionId']\n",
    "    query_status = client.get_query_execution(QueryExecutionId=query_execution_id)['QueryExecution']['Status']['State']\n",
    "\n",
    "    # Wait for the query to complete\n",
    "    while query_status in ['QUEUED', 'RUNNING']:\n",
    "        query_status = client.get_query_execution(QueryExecutionId=query_execution_id)['QueryExecution']['Status']['State']\n",
    "\n",
    "    # Query results\n",
    "    if query_status == 'SUCCEEDED':\n",
    "        result = client.get_query_results(QueryExecutionId=query_execution_id)\n",
    "\n",
    "    logger.info(f\"Query status: {query_status} ::: Table: {table_name} ::: Query execution ID: {response['QueryExecutionId']}\")"
   ],
   "metadata": {
    "collapsed": false,
    "pycharm": {
     "name": "#%%\n"
    }
   }
  },
  {
   "cell_type": "code",
   "execution_count": 66,
   "outputs": [],
   "source": [
    "# Copy log file to s3\n",
    "file_name = \"delete_tables.log\"\n",
    "file_local_path = f\"./logs/{file_name}\"\n",
    "key = f\"{key_path}/logs/{file_name}\"\n",
    "s3.upload_file(file_local_path, bucket_name, key)"
   ],
   "metadata": {
    "collapsed": false,
    "pycharm": {
     "name": "#%%\n"
    }
   }
  }
 ],
 "metadata": {
  "kernelspec": {
   "display_name": "Python 3",
   "language": "python",
   "name": "python3"
  },
  "language_info": {
   "codemirror_mode": {
    "name": "ipython",
    "version": 2
   },
   "file_extension": ".py",
   "mimetype": "text/x-python",
   "name": "python",
   "nbconvert_exporter": "python",
   "pygments_lexer": "ipython2",
   "version": "2.7.6"
  }
 },
 "nbformat": 4,
 "nbformat_minor": 0
}