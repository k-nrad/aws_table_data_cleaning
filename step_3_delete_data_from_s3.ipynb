{
 "cells": [
  {
   "cell_type": "code",
   "execution_count": 1,
   "outputs": [],
   "source": [
    "import boto3\n",
    "import subprocess\n",
    "import logging"
   ],
   "metadata": {
    "collapsed": false,
    "pycharm": {
     "name": "#%%\n"
    }
   }
  },
  {
   "cell_type": "code",
   "execution_count": null,
   "outputs": [],
   "source": [
    "# Create a logger object\n",
    "logger = logging.getLogger(\"delete_data\")\n",
    "\n",
    "# Set the logging level to INFO\n",
    "logger.setLevel(logging.INFO)\n",
    "\n",
    "# Create a FileHandler to write the log messages to a file\n",
    "file_handler = logging.FileHandler(\"logs/delete_data.log\")\n",
    "file_handler.setLevel(logging.INFO)\n",
    "\n",
    "# Create a StreamHandler to write the log messages to the console\n",
    "console_handler = logging.StreamHandler()\n",
    "console_handler.setLevel(logging.INFO)\n",
    "\n",
    "# Create a formatter to format the log messages\n",
    "formatter = logging.Formatter('%(asctime)s - %(name)s - %(levelname)s - %(message)s')\n",
    "\n",
    "# Set the formatter for the handlers\n",
    "file_handler.setFormatter(formatter)\n",
    "console_handler.setFormatter(formatter)\n",
    "\n",
    "# Add the handlers to the logger object\n",
    "logger.addHandler(file_handler)\n",
    "logger.addHandler(console_handler)"
   ],
   "metadata": {
    "collapsed": false,
    "pycharm": {
     "name": "#%%\n"
    }
   }
  },
  {
   "cell_type": "code",
   "execution_count": null,
   "outputs": [],
   "source": [
    "# Log files destination place\n",
    "bucket_name = \"abc\" # change bucket name\n",
    "key_path = f\"cleaning_test_data_and_tables_temp_remove_after_2024.01\""
   ],
   "metadata": {
    "collapsed": false,
    "pycharm": {
     "name": "#%%\n"
    }
   }
  },
  {
   "cell_type": "code",
   "execution_count": null,
   "outputs": [],
   "source": [
    "# Read table names from a file\n",
    "with open(\"data_to_delete.txt\") as f:\n",
    "    data_to_delete_list_of_paths = f.read().splitlines()\n",
    "# Check tables number\n",
    "len(data_to_delete_list_of_paths)"
   ],
   "metadata": {
    "collapsed": false,
    "pycharm": {
     "name": "#%%\n"
    }
   }
  },
  {
   "cell_type": "code",
   "execution_count": 3,
   "outputs": [],
   "source": [
    "# # Delete the objects from the list\n",
    "# Uncomment it when deploy\n",
    "\n",
    "# for path in data_to_delete_list_of_paths:\n",
    "#     # Run a terminal command and store the output\n",
    "#     process = subprocess.Popen(['aws', 's3', 'rm', '--recursive', path], stdout=subprocess.PIPE, stderr=subprocess.PIPE)\n",
    "#     stdout, stderr = process.communicate()\n",
    "#     if process.returncode == 0:\n",
    "#         logger.info(f\"Successfully removed -- '{path}'\")\n",
    "#          # Log the query execution ID and table name to a file\n",
    "#         with open(\"./logs/log_delete_data.txt\", \"a\") as f:\n",
    "#             f.write(f\"{path}: data Successfully removed!\\n\")\n",
    "#     else:\n",
    "#         error_output = stderr.decode().strip()\n",
    "#         with open(\"./logs/log_delete_data.txt\", \"a\") as f:\n",
    "#             f.write(f\"{path}: {error_output}\\n\")\n",
    "#         if 'NoSuchBucket' in error_output:\n",
    "#             logger.error(f\"ERROR -- removing object: The specified bucket does not exist for '{path}' path\")\n",
    "#         else:\n",
    "#             logger.error(f\"ERROR -- removing object: {path}\")"
   ],
   "metadata": {
    "collapsed": false,
    "pycharm": {
     "name": "#%%\n"
    }
   }
  },
  {
   "cell_type": "code",
   "execution_count": null,
   "outputs": [],
   "source": [
    "# Copy log file to s3\n",
    "s3 = boto3.client('s3')\n",
    "file_name = \"delete_data.log\"\n",
    "file_local_path = f\"./logs/{file_name}\"\n",
    "key = f\"{key_path}/logs/{file_name}\"\n",
    "s3.upload_file(file_local_path, bucket_name, key)"
   ],
   "metadata": {
    "collapsed": false,
    "pycharm": {
     "name": "#%%\n"
    }
   }
  }
 ],
 "metadata": {
  "kernelspec": {
   "display_name": "Python 3",
   "language": "python",
   "name": "python3"
  },
  "language_info": {
   "codemirror_mode": {
    "name": "ipython",
    "version": 2
   },
   "file_extension": ".py",
   "mimetype": "text/x-python",
   "name": "python",
   "nbconvert_exporter": "python",
   "pygments_lexer": "ipython2",
   "version": "2.7.6"
  }
 },
 "nbformat": 4,
 "nbformat_minor": 0
}